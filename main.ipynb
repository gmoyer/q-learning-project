{
 "cells": [
  {
   "cell_type": "code",
   "execution_count": 19,
   "metadata": {},
   "outputs": [],
   "source": [
    "import gymnasium as gym\n",
    "import numpy as np\n",
    "import shutil"
   ]
  },
  {
   "cell_type": "code",
   "execution_count": 20,
   "metadata": {},
   "outputs": [],
   "source": [
    "gravity = -10\n",
    "wind_power = 0\n",
    "turbulence_power = 0"
   ]
  },
  {
   "cell_type": "code",
   "execution_count": 21,
   "metadata": {},
   "outputs": [],
   "source": [
    "discrete_options = 12\n",
    "\n",
    "class QLearningAgent:\n",
    "    def __init__(\n",
    "            self,\n",
    "            env,\n",
    "            learning_rate=0.01,\n",
    "            discount_factor=0.9,\n",
    "            exploration_rate=1.0,\n",
    "            epsilon_decay=0.9999,\n",
    "    ):\n",
    "        self.env = env\n",
    "        self.alpha = learning_rate\n",
    "        self.discount = discount_factor\n",
    "        self.epsilon = exploration_rate\n",
    "        self.epsilon_decay = epsilon_decay\n",
    "        self.qValues = np.zeros((discrete_options, discrete_options, discrete_options, discrete_options, discrete_options, discrete_options, discrete_options, discrete_options, env.action_space.n))\n",
    "\n",
    "    def getQIndex(self, state):\n",
    "        # Turn the state into values from 0 to 1 depending on the min and max of the state\n",
    "        state_adj = (state - self.env.observation_space.low) / (self.env.observation_space.high - self.env.observation_space.low)\n",
    "\n",
    "        # Round the state to the nearest discrete option\n",
    "        state_discrete = np.round(state_adj * (discrete_options - 1)).astype(int)\n",
    "        return tuple(state_discrete)\n",
    "\n",
    "\n",
    "    def getQValue(self, state, action):\n",
    "        return self.qValues[self.getQIndex(state)][action]\n",
    "    \n",
    "    def setQValue(self, state, action, value):\n",
    "        self.qValues[self.getQIndex(state)][action] = value\n",
    "    \n",
    "    def bestAction(self, state):\n",
    "        return np.argmax(self.qValues[self.getQIndex(state)])\n",
    "    \n",
    "    def bestQValue(self, state):\n",
    "        return np.max(self.qValues[self.getQIndex(state)])\n",
    "    \n",
    "    def nextAction(self, state):\n",
    "        if np.random.rand() < self.epsilon:\n",
    "            return self.env.action_space.sample()\n",
    "        else:\n",
    "            return self.bestAction(state)\n",
    "        \n",
    "    def update(self, state, action, reward, nextState):\n",
    "        currentQValue = self.getQValue(state, action)\n",
    "        maxQValue = self.bestQValue(nextState)\n",
    "        newUtility = reward + self.discount * maxQValue\n",
    "\n",
    "        self.setQValue(state, action, (1 - self.alpha) * currentQValue + self.alpha * newUtility)\n",
    "\n",
    "    def decayEpsilon(self):\n",
    "        self.epsilon = max(self.epsilon * self.epsilon_decay, 0.4)"
   ]
  },
  {
   "cell_type": "code",
   "execution_count": 22,
   "metadata": {},
   "outputs": [],
   "source": [
    "class ApproxQLearningAgent:\n",
    "    def __init__(\n",
    "            self,\n",
    "            env,\n",
    "            learning_rate=0.01,\n",
    "            discount_factor=0.9,\n",
    "            exploration_rate=1.0,\n",
    "            epsilon_decay=0.9999,\n",
    "    ):\n",
    "        self.env = env\n",
    "        self.alpha = learning_rate\n",
    "        self.discount = discount_factor\n",
    "        self.epsilon = exploration_rate\n",
    "        self.epsilon_decay = epsilon_decay\n",
    "        # self.weights = np.random.rand(7)\n",
    "        self.weights = np.array([0, 0, 0, -10, -50, 0, 0]).astype(float)\n",
    "        self.training = True\n",
    "\n",
    "\n",
    "    def featureExtractor(self, state, action):\n",
    "\n",
    "        x, y, vx, vy, angle, ang_vel, left_leg, right_leg = state\n",
    "\n",
    "        # Predicted state\n",
    "        time = 0.002\n",
    "        angular_thrust = 15\n",
    "        horizontal_thrust = 25\n",
    "        vertical_thrust = 25\n",
    "\n",
    "        if action == 1: # left orientation engine\n",
    "            ang_vel += time * angular_thrust # Angular velocity\n",
    "        elif action == 3: # right orientation engine\n",
    "            ang_vel -= time * angular_thrust # Angular velocity\n",
    "        elif action == 2: # main engine\n",
    "            vertical_thrust *= np.cos(angle)\n",
    "            horizontal_thrust *= np.sin(angle)\n",
    "            vx += time * horizontal_thrust # x-velocity\n",
    "            vy += time * vertical_thrust # y-velocity\n",
    "\n",
    "        vy += time * gravity\n",
    "        x += time * vx\n",
    "        y += time * vy\n",
    "        angle += time * ang_vel\n",
    "\n",
    "\n",
    "        features = np.array([\n",
    "            1, \n",
    "            abs(x),\n",
    "            y,\n",
    "            abs(vy + y * 0.7),\n",
    "            abs(angle - x * 0.5),\n",
    "            abs(ang_vel - (vx) * 0.3),\n",
    "            abs(ang_vel)\n",
    "        ]).astype(float)\n",
    "\n",
    "        return features\n",
    "\n",
    "\n",
    "    def getQValue(self, state, action):\n",
    "        features = self.featureExtractor(state, action)\n",
    "        value = 0\n",
    "        for i in range(len(features)):\n",
    "            value += self.weights[i] * features[i]\n",
    "        return value\n",
    "    \n",
    "    def bestAction(self, state):\n",
    "        x, y, vx, vy, angle, ang_vel, left_leg, right_leg = state\n",
    "        if abs(x) < 0.1 and abs(y) < 0.1 and abs(vx) < 0.1 and abs(vy) < 0.1 and left_leg and right_leg:\n",
    "            return 0\n",
    "        \n",
    "        best_action = 0\n",
    "        best_value = float('-inf')\n",
    "        for action in range(4):\n",
    "            value = self.getQValue(state, action)\n",
    "            if not self.training:\n",
    "                print(\"Action:\", action, \"Value:\", value)\n",
    "            if value > best_value:\n",
    "                best_value = value\n",
    "                best_action = action\n",
    "        return best_action\n",
    "    \n",
    "    def bestQValue(self, state):\n",
    "        best_value = float('-inf')\n",
    "        for action in range(4):\n",
    "            value = self.getQValue(state, action)\n",
    "            if value > best_value:\n",
    "                best_value = value\n",
    "        return best_value\n",
    "    \n",
    "    def nextAction(self, state):\n",
    "        return self.bestAction(state)\n",
    "        \n",
    "    def update(self, state, action, reward, nextState):\n",
    "\n",
    "        features = self.featureExtractor(state, action)\n",
    "\n",
    "        currentQValue = self.getQValue(state, action)\n",
    "        maxNextQValue = self.bestQValue(nextState)\n",
    "        difference = (reward + self.discount * maxNextQValue) - currentQValue\n",
    "\n",
    "        for i in range(len(features)):\n",
    "            self.weights[i] += self.alpha * difference * features[i]\n",
    "\n",
    "\n",
    "    def decayEpsilon(self):\n",
    "        self.epsilon = max(self.epsilon * self.epsilon_decay, 0.01)"
   ]
  },
  {
   "cell_type": "code",
   "execution_count": 23,
   "metadata": {},
   "outputs": [],
   "source": [
    "env1 = gym.make(\"LunarLander-v3\", continuous=False, gravity=gravity,\n",
    "               enable_wind=False, wind_power=wind_power, turbulence_power=turbulence_power, render_mode=\"rgb_array\")\n",
    "env2 = gym.make(\"LunarLander-v3\", continuous=False, gravity=gravity,\n",
    "               enable_wind=False, wind_power=wind_power, turbulence_power=turbulence_power, render_mode=\"rgb_array\")"
   ]
  },
  {
   "cell_type": "code",
   "execution_count": 24,
   "metadata": {},
   "outputs": [],
   "source": [
    "agent1 = QLearningAgent(env1)\n",
    "agent2 = ApproxQLearningAgent(env2)"
   ]
  },
  {
   "cell_type": "code",
   "execution_count": 25,
   "metadata": {},
   "outputs": [
    {
     "name": "stderr",
     "output_type": "stream",
     "text": [
      "c:\\Users\\moyer\\OneDrive\\Documents\\repos\\q-learning-project\\.venv\\Lib\\site-packages\\gymnasium\\wrappers\\rendering.py:283: UserWarning: \u001b[33mWARN: Overwriting existing videos at c:\\Users\\moyer\\OneDrive\\Documents\\repos\\q-learning-project\\output_videos folder (try specifying a different `video_folder` for the `RecordVideo` wrapper if this is not desired)\u001b[0m\n",
      "  logger.warn(\n"
     ]
    }
   ],
   "source": [
    "episodes1 = 5000\n",
    "episodes2 = 5000\n",
    "\n",
    "recordings_count = 20\n",
    "env1 = gym.wrappers.RecordVideo(env1, video_folder=\"output_videos\", name_prefix=\"q_learning\", episode_trigger=lambda x: x % (episodes1 // recordings_count) == 0)\n",
    "env2 = gym.wrappers.RecordVideo(env2, video_folder=\"output_videos\", name_prefix=\"approx_q_learning\", episode_trigger=lambda x: x % (episodes2 // recordings_count) == 0)\n",
    "\n",
    "env1 = gym.wrappers.RecordEpisodeStatistics(env1, buffer_length=episodes1)\n",
    "env2 = gym.wrappers.RecordEpisodeStatistics(env2, buffer_length=episodes2)\n",
    "\n",
    "shutil.rmtree(\"output_videos\", ignore_errors=True)\n",
    "shutil.os.makedirs(\"output_videos\", exist_ok=True)"
   ]
  },
  {
   "cell_type": "code",
   "execution_count": 954,
   "metadata": {},
   "outputs": [
    {
     "name": "stdout",
     "output_type": "stream",
     "text": [
      "Q-Learning - Episode 500/5000, Average Total Reward: -176.8715378123226, Epsilon: 0.9513\n",
      "Q-Learning - Episode 1000/5000, Average Total Reward: -166.3009978563238, Epsilon: 0.9049\n",
      "Q-Learning - Episode 1500/5000, Average Total Reward: -151.57643311039328, Epsilon: 0.8608\n",
      "Q-Learning - Episode 2000/5000, Average Total Reward: -140.3530030066458, Epsilon: 0.8188\n",
      "Q-Learning - Episode 2500/5000, Average Total Reward: -127.10968357680761, Epsilon: 0.7789\n",
      "Q-Learning - Episode 3000/5000, Average Total Reward: -116.75552620153499, Epsilon: 0.7409\n",
      "Q-Learning - Episode 3500/5000, Average Total Reward: -105.16368510970896, Epsilon: 0.7047\n",
      "Q-Learning - Episode 4000/5000, Average Total Reward: -101.47939527796301, Epsilon: 0.6704\n",
      "Q-Learning - Episode 4500/5000, Average Total Reward: -92.79266563938192, Epsilon: 0.6377\n",
      "Q-Learning - Episode 5000/5000, Average Total Reward: -96.73760593401056, Epsilon: 0.6066\n",
      "Approximate Q-Learning - Episode 500/5000, Average Total Reward: 76.96333422325282, Epsilon: 0.9513\n",
      "Approximate Q-Learning - Episode 1000/5000, Average Total Reward: 93.28590049077772, Epsilon: 0.9049\n"
     ]
    },
    {
     "name": "stderr",
     "output_type": "stream",
     "text": [
      "c:\\Users\\moyer\\OneDrive\\Documents\\repos\\q-learning-project\\.venv\\Lib\\site-packages\\gymnasium\\wrappers\\rendering.py:416: UserWarning: \u001b[33mWARN: Unable to save last video! Did you call close()?\u001b[0m\n",
      "  logger.warn(\"Unable to save last video! Did you call close()?\")\n"
     ]
    },
    {
     "name": "stdout",
     "output_type": "stream",
     "text": [
      "Approximate Q-Learning - Episode 1500/5000, Average Total Reward: 103.70611701394321, Epsilon: 0.8608\n",
      "Approximate Q-Learning - Episode 2000/5000, Average Total Reward: 112.3674109647631, Epsilon: 0.8188\n",
      "Approximate Q-Learning - Episode 2500/5000, Average Total Reward: 96.33678438871219, Epsilon: 0.7789\n"
     ]
    },
    {
     "ename": "KeyboardInterrupt",
     "evalue": "",
     "output_type": "error",
     "traceback": [
      "\u001b[31m---------------------------------------------------------------------------\u001b[39m",
      "\u001b[31mKeyboardInterrupt\u001b[39m                         Traceback (most recent call last)",
      "\u001b[36mCell\u001b[39m\u001b[36m \u001b[39m\u001b[32mIn[954]\u001b[39m\u001b[32m, line 27\u001b[39m\n\u001b[32m     24\u001b[39m         agent.decayEpsilon()\n\u001b[32m     26\u001b[39m train(env1, agent1, episodes1, \u001b[33m\"\u001b[39m\u001b[33mQ-Learning\u001b[39m\u001b[33m\"\u001b[39m)\n\u001b[32m---> \u001b[39m\u001b[32m27\u001b[39m \u001b[43mtrain\u001b[49m\u001b[43m(\u001b[49m\u001b[43menv2\u001b[49m\u001b[43m,\u001b[49m\u001b[43m \u001b[49m\u001b[43magent2\u001b[49m\u001b[43m,\u001b[49m\u001b[43m \u001b[49m\u001b[43mepisodes2\u001b[49m\u001b[43m,\u001b[49m\u001b[43m \u001b[49m\u001b[33;43m\"\u001b[39;49m\u001b[33;43mApproximate Q-Learning\u001b[39;49m\u001b[33;43m\"\u001b[39;49m\u001b[43m)\u001b[49m\n",
      "\u001b[36mCell\u001b[39m\u001b[36m \u001b[39m\u001b[32mIn[954]\u001b[39m\u001b[32m, line 11\u001b[39m, in \u001b[36mtrain\u001b[39m\u001b[34m(env, agent, episodes, name)\u001b[39m\n\u001b[32m      9\u001b[39m \u001b[38;5;28;01mwhile\u001b[39;00m \u001b[38;5;129;01mnot\u001b[39;00m done:\n\u001b[32m     10\u001b[39m     action = agent.nextAction(state)\n\u001b[32m---> \u001b[39m\u001b[32m11\u001b[39m     nextState, reward, terminated, truncated, _ = \u001b[43menv\u001b[49m\u001b[43m.\u001b[49m\u001b[43mstep\u001b[49m\u001b[43m(\u001b[49m\u001b[43maction\u001b[49m\u001b[43m)\u001b[49m\n\u001b[32m     12\u001b[39m     done = terminated \u001b[38;5;129;01mor\u001b[39;00m truncated\n\u001b[32m     14\u001b[39m     agent.update(state, action, reward, nextState)\n",
      "\u001b[36mFile \u001b[39m\u001b[32mc:\\Users\\moyer\\OneDrive\\Documents\\repos\\q-learning-project\\.venv\\Lib\\site-packages\\gymnasium\\wrappers\\common.py:513\u001b[39m, in \u001b[36mRecordEpisodeStatistics.step\u001b[39m\u001b[34m(self, action)\u001b[39m\n\u001b[32m    509\u001b[39m \u001b[38;5;28;01mdef\u001b[39;00m\u001b[38;5;250m \u001b[39m\u001b[34mstep\u001b[39m(\n\u001b[32m    510\u001b[39m     \u001b[38;5;28mself\u001b[39m, action: ActType\n\u001b[32m    511\u001b[39m ) -> \u001b[38;5;28mtuple\u001b[39m[ObsType, SupportsFloat, \u001b[38;5;28mbool\u001b[39m, \u001b[38;5;28mbool\u001b[39m, \u001b[38;5;28mdict\u001b[39m[\u001b[38;5;28mstr\u001b[39m, Any]]:\n\u001b[32m    512\u001b[39m \u001b[38;5;250m    \u001b[39m\u001b[33;03m\"\"\"Steps through the environment, recording the episode statistics.\"\"\"\u001b[39;00m\n\u001b[32m--> \u001b[39m\u001b[32m513\u001b[39m     obs, reward, terminated, truncated, info = \u001b[38;5;28;43msuper\u001b[39;49m\u001b[43m(\u001b[49m\u001b[43m)\u001b[49m\u001b[43m.\u001b[49m\u001b[43mstep\u001b[49m\u001b[43m(\u001b[49m\u001b[43maction\u001b[49m\u001b[43m)\u001b[49m\n\u001b[32m    515\u001b[39m     \u001b[38;5;28mself\u001b[39m.episode_returns += reward\n\u001b[32m    516\u001b[39m     \u001b[38;5;28mself\u001b[39m.episode_lengths += \u001b[32m1\u001b[39m\n",
      "\u001b[36mFile \u001b[39m\u001b[32mc:\\Users\\moyer\\OneDrive\\Documents\\repos\\q-learning-project\\.venv\\Lib\\site-packages\\gymnasium\\core.py:327\u001b[39m, in \u001b[36mWrapper.step\u001b[39m\u001b[34m(self, action)\u001b[39m\n\u001b[32m    323\u001b[39m \u001b[38;5;28;01mdef\u001b[39;00m\u001b[38;5;250m \u001b[39m\u001b[34mstep\u001b[39m(\n\u001b[32m    324\u001b[39m     \u001b[38;5;28mself\u001b[39m, action: WrapperActType\n\u001b[32m    325\u001b[39m ) -> \u001b[38;5;28mtuple\u001b[39m[WrapperObsType, SupportsFloat, \u001b[38;5;28mbool\u001b[39m, \u001b[38;5;28mbool\u001b[39m, \u001b[38;5;28mdict\u001b[39m[\u001b[38;5;28mstr\u001b[39m, Any]]:\n\u001b[32m    326\u001b[39m \u001b[38;5;250m    \u001b[39m\u001b[33;03m\"\"\"Uses the :meth:`step` of the :attr:`env` that can be overwritten to change the returned data.\"\"\"\u001b[39;00m\n\u001b[32m--> \u001b[39m\u001b[32m327\u001b[39m     \u001b[38;5;28;01mreturn\u001b[39;00m \u001b[38;5;28;43mself\u001b[39;49m\u001b[43m.\u001b[49m\u001b[43menv\u001b[49m\u001b[43m.\u001b[49m\u001b[43mstep\u001b[49m\u001b[43m(\u001b[49m\u001b[43maction\u001b[49m\u001b[43m)\u001b[49m\n",
      "\u001b[36mFile \u001b[39m\u001b[32mc:\\Users\\moyer\\OneDrive\\Documents\\repos\\q-learning-project\\.venv\\Lib\\site-packages\\gymnasium\\wrappers\\rendering.py:350\u001b[39m, in \u001b[36mRecordVideo.step\u001b[39m\u001b[34m(self, action)\u001b[39m\n\u001b[32m    346\u001b[39m \u001b[38;5;28;01mdef\u001b[39;00m\u001b[38;5;250m \u001b[39m\u001b[34mstep\u001b[39m(\n\u001b[32m    347\u001b[39m     \u001b[38;5;28mself\u001b[39m, action: ActType\n\u001b[32m    348\u001b[39m ) -> \u001b[38;5;28mtuple\u001b[39m[ObsType, SupportsFloat, \u001b[38;5;28mbool\u001b[39m, \u001b[38;5;28mbool\u001b[39m, \u001b[38;5;28mdict\u001b[39m[\u001b[38;5;28mstr\u001b[39m, Any]]:\n\u001b[32m    349\u001b[39m \u001b[38;5;250m    \u001b[39m\u001b[33;03m\"\"\"Steps through the environment using action, recording observations if :attr:`self.recording`.\"\"\"\u001b[39;00m\n\u001b[32m--> \u001b[39m\u001b[32m350\u001b[39m     obs, rew, terminated, truncated, info = \u001b[38;5;28;43mself\u001b[39;49m\u001b[43m.\u001b[49m\u001b[43menv\u001b[49m\u001b[43m.\u001b[49m\u001b[43mstep\u001b[49m\u001b[43m(\u001b[49m\u001b[43maction\u001b[49m\u001b[43m)\u001b[49m\n\u001b[32m    351\u001b[39m     \u001b[38;5;28mself\u001b[39m.step_id += \u001b[32m1\u001b[39m\n\u001b[32m    353\u001b[39m     \u001b[38;5;28;01mif\u001b[39;00m \u001b[38;5;28mself\u001b[39m.step_trigger \u001b[38;5;129;01mand\u001b[39;00m \u001b[38;5;28mself\u001b[39m.step_trigger(\u001b[38;5;28mself\u001b[39m.step_id):\n",
      "\u001b[36mFile \u001b[39m\u001b[32mc:\\Users\\moyer\\OneDrive\\Documents\\repos\\q-learning-project\\.venv\\Lib\\site-packages\\gymnasium\\wrappers\\common.py:125\u001b[39m, in \u001b[36mTimeLimit.step\u001b[39m\u001b[34m(self, action)\u001b[39m\n\u001b[32m    112\u001b[39m \u001b[38;5;28;01mdef\u001b[39;00m\u001b[38;5;250m \u001b[39m\u001b[34mstep\u001b[39m(\n\u001b[32m    113\u001b[39m     \u001b[38;5;28mself\u001b[39m, action: ActType\n\u001b[32m    114\u001b[39m ) -> \u001b[38;5;28mtuple\u001b[39m[ObsType, SupportsFloat, \u001b[38;5;28mbool\u001b[39m, \u001b[38;5;28mbool\u001b[39m, \u001b[38;5;28mdict\u001b[39m[\u001b[38;5;28mstr\u001b[39m, Any]]:\n\u001b[32m    115\u001b[39m \u001b[38;5;250m    \u001b[39m\u001b[33;03m\"\"\"Steps through the environment and if the number of steps elapsed exceeds ``max_episode_steps`` then truncate.\u001b[39;00m\n\u001b[32m    116\u001b[39m \n\u001b[32m    117\u001b[39m \u001b[33;03m    Args:\u001b[39;00m\n\u001b[32m   (...)\u001b[39m\u001b[32m    123\u001b[39m \n\u001b[32m    124\u001b[39m \u001b[33;03m    \"\"\"\u001b[39;00m\n\u001b[32m--> \u001b[39m\u001b[32m125\u001b[39m     observation, reward, terminated, truncated, info = \u001b[38;5;28;43mself\u001b[39;49m\u001b[43m.\u001b[49m\u001b[43menv\u001b[49m\u001b[43m.\u001b[49m\u001b[43mstep\u001b[49m\u001b[43m(\u001b[49m\u001b[43maction\u001b[49m\u001b[43m)\u001b[49m\n\u001b[32m    126\u001b[39m     \u001b[38;5;28mself\u001b[39m._elapsed_steps += \u001b[32m1\u001b[39m\n\u001b[32m    128\u001b[39m     \u001b[38;5;28;01mif\u001b[39;00m \u001b[38;5;28mself\u001b[39m._elapsed_steps >= \u001b[38;5;28mself\u001b[39m._max_episode_steps:\n",
      "\u001b[36mFile \u001b[39m\u001b[32mc:\\Users\\moyer\\OneDrive\\Documents\\repos\\q-learning-project\\.venv\\Lib\\site-packages\\gymnasium\\wrappers\\common.py:393\u001b[39m, in \u001b[36mOrderEnforcing.step\u001b[39m\u001b[34m(self, action)\u001b[39m\n\u001b[32m    391\u001b[39m \u001b[38;5;28;01mif\u001b[39;00m \u001b[38;5;129;01mnot\u001b[39;00m \u001b[38;5;28mself\u001b[39m._has_reset:\n\u001b[32m    392\u001b[39m     \u001b[38;5;28;01mraise\u001b[39;00m ResetNeeded(\u001b[33m\"\u001b[39m\u001b[33mCannot call env.step() before calling env.reset()\u001b[39m\u001b[33m\"\u001b[39m)\n\u001b[32m--> \u001b[39m\u001b[32m393\u001b[39m \u001b[38;5;28;01mreturn\u001b[39;00m \u001b[38;5;28;43msuper\u001b[39;49m\u001b[43m(\u001b[49m\u001b[43m)\u001b[49m\u001b[43m.\u001b[49m\u001b[43mstep\u001b[49m\u001b[43m(\u001b[49m\u001b[43maction\u001b[49m\u001b[43m)\u001b[49m\n",
      "\u001b[36mFile \u001b[39m\u001b[32mc:\\Users\\moyer\\OneDrive\\Documents\\repos\\q-learning-project\\.venv\\Lib\\site-packages\\gymnasium\\core.py:327\u001b[39m, in \u001b[36mWrapper.step\u001b[39m\u001b[34m(self, action)\u001b[39m\n\u001b[32m    323\u001b[39m \u001b[38;5;28;01mdef\u001b[39;00m\u001b[38;5;250m \u001b[39m\u001b[34mstep\u001b[39m(\n\u001b[32m    324\u001b[39m     \u001b[38;5;28mself\u001b[39m, action: WrapperActType\n\u001b[32m    325\u001b[39m ) -> \u001b[38;5;28mtuple\u001b[39m[WrapperObsType, SupportsFloat, \u001b[38;5;28mbool\u001b[39m, \u001b[38;5;28mbool\u001b[39m, \u001b[38;5;28mdict\u001b[39m[\u001b[38;5;28mstr\u001b[39m, Any]]:\n\u001b[32m    326\u001b[39m \u001b[38;5;250m    \u001b[39m\u001b[33;03m\"\"\"Uses the :meth:`step` of the :attr:`env` that can be overwritten to change the returned data.\"\"\"\u001b[39;00m\n\u001b[32m--> \u001b[39m\u001b[32m327\u001b[39m     \u001b[38;5;28;01mreturn\u001b[39;00m \u001b[38;5;28;43mself\u001b[39;49m\u001b[43m.\u001b[49m\u001b[43menv\u001b[49m\u001b[43m.\u001b[49m\u001b[43mstep\u001b[49m\u001b[43m(\u001b[49m\u001b[43maction\u001b[49m\u001b[43m)\u001b[49m\n",
      "\u001b[36mFile \u001b[39m\u001b[32mc:\\Users\\moyer\\OneDrive\\Documents\\repos\\q-learning-project\\.venv\\Lib\\site-packages\\gymnasium\\wrappers\\common.py:285\u001b[39m, in \u001b[36mPassiveEnvChecker.step\u001b[39m\u001b[34m(self, action)\u001b[39m\n\u001b[32m    283\u001b[39m     \u001b[38;5;28;01mreturn\u001b[39;00m env_step_passive_checker(\u001b[38;5;28mself\u001b[39m.env, action)\n\u001b[32m    284\u001b[39m \u001b[38;5;28;01melse\u001b[39;00m:\n\u001b[32m--> \u001b[39m\u001b[32m285\u001b[39m     \u001b[38;5;28;01mreturn\u001b[39;00m \u001b[38;5;28;43mself\u001b[39;49m\u001b[43m.\u001b[49m\u001b[43menv\u001b[49m\u001b[43m.\u001b[49m\u001b[43mstep\u001b[49m\u001b[43m(\u001b[49m\u001b[43maction\u001b[49m\u001b[43m)\u001b[49m\n",
      "\u001b[36mFile \u001b[39m\u001b[32mc:\\Users\\moyer\\OneDrive\\Documents\\repos\\q-learning-project\\.venv\\Lib\\site-packages\\gymnasium\\envs\\box2d\\lunar_lander.py:621\u001b[39m, in \u001b[36mLunarLander.step\u001b[39m\u001b[34m(self, action)\u001b[39m\n\u001b[32m    607\u001b[39m         p.ApplyLinearImpulse(\n\u001b[32m    608\u001b[39m             (\n\u001b[32m    609\u001b[39m                 ox * SIDE_ENGINE_POWER * s_power,\n\u001b[32m   (...)\u001b[39m\u001b[32m    613\u001b[39m             \u001b[38;5;28;01mTrue\u001b[39;00m,\n\u001b[32m    614\u001b[39m         )\n\u001b[32m    615\u001b[39m     \u001b[38;5;28mself\u001b[39m.lander.ApplyLinearImpulse(\n\u001b[32m    616\u001b[39m         (-ox * SIDE_ENGINE_POWER * s_power, -oy * SIDE_ENGINE_POWER * s_power),\n\u001b[32m    617\u001b[39m         impulse_pos,\n\u001b[32m    618\u001b[39m         \u001b[38;5;28;01mTrue\u001b[39;00m,\n\u001b[32m    619\u001b[39m     )\n\u001b[32m--> \u001b[39m\u001b[32m621\u001b[39m \u001b[38;5;28;43mself\u001b[39;49m\u001b[43m.\u001b[49m\u001b[43mworld\u001b[49m\u001b[43m.\u001b[49m\u001b[43mStep\u001b[49m\u001b[43m(\u001b[49m\u001b[32;43m1.0\u001b[39;49m\u001b[43m \u001b[49m\u001b[43m/\u001b[49m\u001b[43m \u001b[49m\u001b[43mFPS\u001b[49m\u001b[43m,\u001b[49m\u001b[43m \u001b[49m\u001b[32;43m6\u001b[39;49m\u001b[43m \u001b[49m\u001b[43m*\u001b[49m\u001b[43m \u001b[49m\u001b[32;43m30\u001b[39;49m\u001b[43m,\u001b[49m\u001b[43m \u001b[49m\u001b[32;43m2\u001b[39;49m\u001b[43m \u001b[49m\u001b[43m*\u001b[49m\u001b[43m \u001b[49m\u001b[32;43m30\u001b[39;49m\u001b[43m)\u001b[49m\n\u001b[32m    623\u001b[39m pos = \u001b[38;5;28mself\u001b[39m.lander.position\n\u001b[32m    624\u001b[39m vel = \u001b[38;5;28mself\u001b[39m.lander.linearVelocity\n",
      "\u001b[36mFile \u001b[39m\u001b[32mc:\\Users\\moyer\\OneDrive\\Documents\\repos\\q-learning-project\\.venv\\Lib\\site-packages\\gymnasium\\envs\\box2d\\lunar_lander.py:66\u001b[39m, in \u001b[36mContactDetector.BeginContact\u001b[39m\u001b[34m(self, contact)\u001b[39m\n\u001b[32m     64\u001b[39m \u001b[38;5;28;01mdef\u001b[39;00m\u001b[38;5;250m \u001b[39m\u001b[34mBeginContact\u001b[39m(\u001b[38;5;28mself\u001b[39m, contact):\n\u001b[32m     65\u001b[39m     \u001b[38;5;28;01mif\u001b[39;00m (\n\u001b[32m---> \u001b[39m\u001b[32m66\u001b[39m         \u001b[38;5;28;43mself\u001b[39;49m\u001b[43m.\u001b[49m\u001b[43menv\u001b[49m\u001b[43m.\u001b[49m\u001b[43mlander\u001b[49m\u001b[43m \u001b[49m\u001b[43m==\u001b[49m\u001b[43m \u001b[49m\u001b[43mcontact\u001b[49m\u001b[43m.\u001b[49m\u001b[43mfixtureA\u001b[49m\u001b[43m.\u001b[49m\u001b[43mbody\u001b[49m\n\u001b[32m     67\u001b[39m         \u001b[38;5;129;01mor\u001b[39;00m \u001b[38;5;28mself\u001b[39m.env.lander == contact.fixtureB.body\n\u001b[32m     68\u001b[39m     ):\n\u001b[32m     69\u001b[39m         \u001b[38;5;28mself\u001b[39m.env.game_over = \u001b[38;5;28;01mTrue\u001b[39;00m\n\u001b[32m     70\u001b[39m     \u001b[38;5;28;01mfor\u001b[39;00m i \u001b[38;5;129;01min\u001b[39;00m \u001b[38;5;28mrange\u001b[39m(\u001b[32m2\u001b[39m):\n",
      "\u001b[36mFile \u001b[39m\u001b[32mc:\\Users\\moyer\\OneDrive\\Documents\\repos\\q-learning-project\\.venv\\Lib\\site-packages\\Box2D\\Box2D.py:429\u001b[39m, in \u001b[36mb2BodyCompare\u001b[39m\u001b[34m(a, b)\u001b[39m\n\u001b[32m    427\u001b[39m         \u001b[38;5;28;01mreturn\u001b[39;00m \u001b[38;5;28;01mFalse\u001b[39;00m\n\u001b[32m    428\u001b[39m     \u001b[38;5;28;01mreturn\u001b[39;00m __shapeeq(a, b)\n\u001b[32m--> \u001b[39m\u001b[32m429\u001b[39m \u001b[38;5;28;01mdef\u001b[39;00m\u001b[38;5;250m \u001b[39m\u001b[34mb2BodyCompare\u001b[39m(a, b):\n\u001b[32m    430\u001b[39m     \u001b[38;5;28;01mif\u001b[39;00m \u001b[38;5;129;01mnot\u001b[39;00m \u001b[38;5;28misinstance\u001b[39m(a, b2Body) \u001b[38;5;129;01mor\u001b[39;00m \u001b[38;5;129;01mnot\u001b[39;00m \u001b[38;5;28misinstance\u001b[39m(b, b2Body):\n\u001b[32m    431\u001b[39m         \u001b[38;5;28;01mreturn\u001b[39;00m \u001b[38;5;28;01mFalse\u001b[39;00m\n",
      "\u001b[31mKeyboardInterrupt\u001b[39m: "
     ]
    }
   ],
   "source": [
    "\n",
    "def train(env, agent, episodes, name):\n",
    "\n",
    "    ave_reward = 0\n",
    "    for episode in range(1, episodes+1):\n",
    "        state, _ = env.reset()\n",
    "        done = False\n",
    "        total_reward = 0\n",
    "\n",
    "        while not done:\n",
    "            action = agent.nextAction(state)\n",
    "            nextState, reward, terminated, truncated, _ = env.step(action)\n",
    "            done = terminated or truncated\n",
    "\n",
    "            agent.update(state, action, reward, nextState)\n",
    "\n",
    "            state = nextState\n",
    "            total_reward += reward\n",
    "\n",
    "        ave_reward += total_reward\n",
    "\n",
    "        if episode % 500 == 0:\n",
    "            print(f\"{name} - Episode {episode}/{episodes}, Average Total Reward: {ave_reward/500}, Epsilon: {agent.epsilon:.4f}\")\n",
    "            ave_reward = 0\n",
    "        agent.decayEpsilon()\n",
    "\n",
    "train(env1, agent1, episodes1, \"Q-Learning\")\n",
    "train(env2, agent2, episodes2, \"Approximate Q-Learning\")"
   ]
  },
  {
   "cell_type": "code",
   "execution_count": 955,
   "metadata": {},
   "outputs": [
    {
     "name": "stdout",
     "output_type": "stream",
     "text": [
      "[  6.9170346   -8.72525746   6.41264449 -17.77655115 -20.39673468\n",
      "  -8.11386926  -8.28454858]\n"
     ]
    }
   ],
   "source": [
    "print(agent2.weights)"
   ]
  },
  {
   "cell_type": "code",
   "execution_count": 956,
   "metadata": {},
   "outputs": [
    {
     "data": {
      "image/png": "[encoded data removed]",
      "text/plain": [
       "<Figure size 1200x500 with 2 Axes>"
      ]
     },
     "metadata": {},
     "output_type": "display_data"
    }
   ],
   "source": [
    "from matplotlib import pyplot as plt\n",
    "\n",
    "def get_moving_avgs(arr, window, convolution_mode):\n",
    "    return np.convolve(\n",
    "        np.array(arr).flatten(),\n",
    "        np.ones(window),\n",
    "        mode=convolution_mode\n",
    "    ) / window\n",
    "\n",
    "# Smooth over a 500 episode window\n",
    "rolling_length = 500\n",
    "fig, axs = plt.subplots(ncols=2, figsize=(12, 5))\n",
    "\n",
    "# Plot the moving average of the rewards\n",
    "axs[0].set_title(\"Episode rewards\")\n",
    "reward_moving_average = get_moving_avgs(\n",
    "    env1.return_queue,\n",
    "    rolling_length,\n",
    "    \"valid\"\n",
    ")\n",
    "axs[0].plot(range(len(reward_moving_average)), reward_moving_average, label='Q-Learning')\n",
    "\n",
    "reward_moving_average = get_moving_avgs(\n",
    "    env2.return_queue,\n",
    "    rolling_length,\n",
    "    \"valid\"\n",
    ")\n",
    "axs[0].plot(range(len(reward_moving_average)), reward_moving_average, label='Approximate Q-Learning')\n",
    "\n",
    "# Add legend to the rewards plot\n",
    "axs[0].legend()\n",
    "\n",
    "\n",
    "# Plot the moving average of the episode lengths\n",
    "axs[1].set_title(\"Episode lengths\")\n",
    "length_moving_average = get_moving_avgs(\n",
    "    env1.length_queue,\n",
    "    rolling_length,\n",
    "    \"valid\"\n",
    ")\n",
    "axs[1].plot(range(len(length_moving_average)), length_moving_average, label='Q-Learning')\n",
    "\n",
    "length_moving_average = get_moving_avgs(\n",
    "    env2.length_queue,\n",
    "    rolling_length,\n",
    "    \"valid\"\n",
    ")\n",
    "axs[1].plot(range(len(length_moving_average)), length_moving_average, label='Approximate Q-Learning')\n",
    "\n",
    "# Add legend to the episode lengths plot\n",
    "axs[1].legend()\n",
    "\n",
    "plt.tight_layout()\n",
    "plt.show()"
   ]
  },
  {
   "cell_type": "code",
   "execution_count": 936,
   "metadata": {},
   "outputs": [],
   "source": [
    "env = gym.make(\"LunarLander-v3\", continuous=False, gravity=gravity,\n",
    "               enable_wind=False, wind_power=wind_power, turbulence_power=turbulence_power)"
   ]
  },
  {
   "cell_type": "code",
   "execution_count": 939,
   "metadata": {},
   "outputs": [
    {
     "name": "stdout",
     "output_type": "stream",
     "text": [
      "Average reward over 1000 episodes: 188.0521986827196\n"
     ]
    }
   ],
   "source": [
    "# agent2.training = False\n",
    "ave_reward = 0\n",
    "for i in range(1000):\n",
    "    observation, info = env.reset()\n",
    "    episode_over = False\n",
    "    total_reward = 0\n",
    "    actions = 0\n",
    "    while not episode_over:\n",
    "        action = agent2.bestAction(observation)\n",
    "        # predicted = agent.featureExtractor(observation, action)\n",
    "        observation, reward, terminated, truncated, info = env.step(action)\n",
    "        total_reward += reward\n",
    "        episode_over = terminated or truncated\n",
    "        actions += 1\n",
    "    ave_reward += total_reward\n",
    "    # print(f\"Episode {i+1} took {actions} actions and earned {total_reward} reward\")\n",
    "\n",
    "print(f\"Average reward over 1000 episodes: {ave_reward/1000}\")"
   ]
  },
  {
   "cell_type": "code",
   "execution_count": 27,
   "metadata": {},
   "outputs": [],
   "source": [
    "env = gym.make(\"LunarLander-v3\", continuous=False, gravity=gravity,\n",
    "               enable_wind=False, wind_power=wind_power, turbulence_power=turbulence_power, render_mode=\"rgb_array\")\n",
    "\n",
    "env = gym.wrappers.RecordVideo(env, video_folder=\"example_videos\", name_prefix=\"example\", episode_trigger=lambda x: True)"
   ]
  },
  {
   "cell_type": "code",
   "execution_count": 28,
   "metadata": {},
   "outputs": [
    {
     "name": "stdout",
     "output_type": "stream",
     "text": [
      "Episode 1 took 450 actions and earned 241.0672372961301 reward\n",
      "Episode 2 took 570 actions and earned 234.44276971768411 reward\n",
      "Episode 3 took 369 actions and earned 205.4337623115821 reward\n",
      "Episode 4 took 441 actions and earned 213.007126550582 reward\n",
      "Episode 5 took 391 actions and earned 226.26523359557774 reward\n",
      "Episode 6 took 510 actions and earned 233.22431036058637 reward\n",
      "Episode 7 took 731 actions and earned 202.68534627500543 reward\n",
      "Episode 8 took 359 actions and earned 176.6538880307295 reward\n",
      "Episode 9 took 438 actions and earned 241.403726170298 reward\n",
      "Episode 10 took 880 actions and earned 233.60723356586735 reward\n",
      "Episode 11 took 599 actions and earned 181.4615647846865 reward\n",
      "Episode 12 took 738 actions and earned 245.7574937032709 reward\n",
      "Episode 13 took 524 actions and earned 229.01687157226422 reward\n",
      "Episode 14 took 612 actions and earned 256.79936467027323 reward\n",
      "Episode 15 took 426 actions and earned 242.0908726209452 reward\n",
      "Episode 16 took 737 actions and earned 228.8571075660127 reward\n",
      "Episode 17 took 511 actions and earned 255.13761616234962 reward\n",
      "Episode 18 took 398 actions and earned 212.38940376259967 reward\n",
      "Episode 19 took 262 actions and earned -35.59532848854839 reward\n",
      "Episode 20 took 757 actions and earned 244.19161285950986 reward\n",
      "Episode 21 took 739 actions and earned 201.48677580398262 reward\n",
      "Episode 22 took 316 actions and earned 218.53874602952305 reward\n",
      "Episode 23 took 568 actions and earned 217.2330668641772 reward\n",
      "Episode 24 took 397 actions and earned 230.23595703412184 reward\n",
      "Episode 25 took 681 actions and earned 235.1223432777471 reward\n",
      "Episode 26 took 413 actions and earned 231.7231621756029 reward\n",
      "Episode 27 took 409 actions and earned 206.9995551195137 reward\n",
      "Episode 28 took 578 actions and earned 211.61423316139945 reward\n",
      "Episode 29 took 393 actions and earned 220.08629400837037 reward\n",
      "Episode 30 took 373 actions and earned 227.4482927030537 reward\n"
     ]
    },
    {
     "ename": "KeyboardInterrupt",
     "evalue": "",
     "output_type": "error",
     "traceback": [
      "\u001b[31m---------------------------------------------------------------------------\u001b[39m",
      "\u001b[31mKeyboardInterrupt\u001b[39m                         Traceback (most recent call last)",
      "\u001b[36mCell\u001b[39m\u001b[36m \u001b[39m\u001b[32mIn[28]\u001b[39m\u001b[32m, line 5\u001b[39m\n\u001b[32m      2\u001b[39m high_score_episode = \u001b[32m0\u001b[39m\n\u001b[32m      4\u001b[39m \u001b[38;5;28;01mfor\u001b[39;00m i \u001b[38;5;129;01min\u001b[39;00m \u001b[38;5;28mrange\u001b[39m(\u001b[32m100\u001b[39m):\n\u001b[32m----> \u001b[39m\u001b[32m5\u001b[39m     observation, info = \u001b[43menv\u001b[49m\u001b[43m.\u001b[49m\u001b[43mreset\u001b[49m\u001b[43m(\u001b[49m\u001b[43m)\u001b[49m\n\u001b[32m      6\u001b[39m     episode_over = \u001b[38;5;28;01mFalse\u001b[39;00m\n\u001b[32m      7\u001b[39m     total_reward = \u001b[32m0\u001b[39m\n",
      "\u001b[36mFile \u001b[39m\u001b[32mc:\\Users\\moyer\\OneDrive\\Documents\\repos\\q-learning-project\\.venv\\Lib\\site-packages\\gymnasium\\wrappers\\rendering.py:335\u001b[39m, in \u001b[36mRecordVideo.reset\u001b[39m\u001b[34m(self, seed, options)\u001b[39m\n\u001b[32m    332\u001b[39m \u001b[38;5;28mself\u001b[39m.episode_id += \u001b[32m1\u001b[39m\n\u001b[32m    334\u001b[39m \u001b[38;5;28;01mif\u001b[39;00m \u001b[38;5;28mself\u001b[39m.recording \u001b[38;5;129;01mand\u001b[39;00m \u001b[38;5;28mself\u001b[39m.video_length == \u001b[38;5;28mfloat\u001b[39m(\u001b[33m\"\u001b[39m\u001b[33minf\u001b[39m\u001b[33m\"\u001b[39m):\n\u001b[32m--> \u001b[39m\u001b[32m335\u001b[39m     \u001b[38;5;28;43mself\u001b[39;49m\u001b[43m.\u001b[49m\u001b[43mstop_recording\u001b[49m\u001b[43m(\u001b[49m\u001b[43m)\u001b[49m\n\u001b[32m    337\u001b[39m \u001b[38;5;28;01mif\u001b[39;00m \u001b[38;5;28mself\u001b[39m.episode_trigger \u001b[38;5;129;01mand\u001b[39;00m \u001b[38;5;28mself\u001b[39m.episode_trigger(\u001b[38;5;28mself\u001b[39m.episode_id):\n\u001b[32m    338\u001b[39m     \u001b[38;5;28mself\u001b[39m.start_recording(\u001b[33mf\u001b[39m\u001b[33m\"\u001b[39m\u001b[38;5;132;01m{\u001b[39;00m\u001b[38;5;28mself\u001b[39m.name_prefix\u001b[38;5;132;01m}\u001b[39;00m\u001b[33m-episode-\u001b[39m\u001b[38;5;132;01m{\u001b[39;00m\u001b[38;5;28mself\u001b[39m.episode_id\u001b[38;5;132;01m}\u001b[39;00m\u001b[33m\"\u001b[39m)\n",
      "\u001b[36mFile \u001b[39m\u001b[32mc:\\Users\\moyer\\OneDrive\\Documents\\repos\\q-learning-project\\.venv\\Lib\\site-packages\\gymnasium\\wrappers\\rendering.py:407\u001b[39m, in \u001b[36mRecordVideo.stop_recording\u001b[39m\u001b[34m(self)\u001b[39m\n\u001b[32m    405\u001b[39m     moviepy_logger = \u001b[38;5;28;01mNone\u001b[39;00m \u001b[38;5;28;01mif\u001b[39;00m \u001b[38;5;28mself\u001b[39m.disable_logger \u001b[38;5;28;01melse\u001b[39;00m \u001b[33m\"\u001b[39m\u001b[33mbar\u001b[39m\u001b[33m\"\u001b[39m\n\u001b[32m    406\u001b[39m     path = os.path.join(\u001b[38;5;28mself\u001b[39m.video_folder, \u001b[33mf\u001b[39m\u001b[33m\"\u001b[39m\u001b[38;5;132;01m{\u001b[39;00m\u001b[38;5;28mself\u001b[39m._video_name\u001b[38;5;132;01m}\u001b[39;00m\u001b[33m.mp4\u001b[39m\u001b[33m\"\u001b[39m)\n\u001b[32m--> \u001b[39m\u001b[32m407\u001b[39m     \u001b[43mclip\u001b[49m\u001b[43m.\u001b[49m\u001b[43mwrite_videofile\u001b[49m\u001b[43m(\u001b[49m\u001b[43mpath\u001b[49m\u001b[43m,\u001b[49m\u001b[43m \u001b[49m\u001b[43mlogger\u001b[49m\u001b[43m=\u001b[49m\u001b[43mmoviepy_logger\u001b[49m\u001b[43m)\u001b[49m\n\u001b[32m    409\u001b[39m \u001b[38;5;28mself\u001b[39m.recorded_frames = []\n\u001b[32m    410\u001b[39m \u001b[38;5;28mself\u001b[39m.recording = \u001b[38;5;28;01mFalse\u001b[39;00m\n",
      "\u001b[36mFile \u001b[39m\u001b[32mc:\\Users\\moyer\\OneDrive\\Documents\\repos\\q-learning-project\\.venv\\Lib\\site-packages\\decorator.py:235\u001b[39m, in \u001b[36mdecorate.<locals>.fun\u001b[39m\u001b[34m(*args, **kw)\u001b[39m\n\u001b[32m    233\u001b[39m \u001b[38;5;28;01mif\u001b[39;00m \u001b[38;5;129;01mnot\u001b[39;00m kwsyntax:\n\u001b[32m    234\u001b[39m     args, kw = fix(args, kw, sig)\n\u001b[32m--> \u001b[39m\u001b[32m235\u001b[39m \u001b[38;5;28;01mreturn\u001b[39;00m \u001b[43mcaller\u001b[49m\u001b[43m(\u001b[49m\u001b[43mfunc\u001b[49m\u001b[43m,\u001b[49m\u001b[43m \u001b[49m\u001b[43m*\u001b[49m\u001b[43m(\u001b[49m\u001b[43mextras\u001b[49m\u001b[43m \u001b[49m\u001b[43m+\u001b[49m\u001b[43m \u001b[49m\u001b[43margs\u001b[49m\u001b[43m)\u001b[49m\u001b[43m,\u001b[49m\u001b[43m \u001b[49m\u001b[43m*\u001b[49m\u001b[43m*\u001b[49m\u001b[43mkw\u001b[49m\u001b[43m)\u001b[49m\n",
      "\u001b[36mFile \u001b[39m\u001b[32mc:\\Users\\moyer\\OneDrive\\Documents\\repos\\q-learning-project\\.venv\\Lib\\site-packages\\moviepy\\decorators.py:53\u001b[39m, in \u001b[36mrequires_duration\u001b[39m\u001b[34m(func, clip, *args, **kwargs)\u001b[39m\n\u001b[32m     51\u001b[39m     \u001b[38;5;28;01mraise\u001b[39;00m \u001b[38;5;167;01mValueError\u001b[39;00m(\u001b[33m\"\u001b[39m\u001b[33mAttribute \u001b[39m\u001b[33m'\u001b[39m\u001b[33mduration\u001b[39m\u001b[33m'\u001b[39m\u001b[33m not set\u001b[39m\u001b[33m\"\u001b[39m)\n\u001b[32m     52\u001b[39m \u001b[38;5;28;01melse\u001b[39;00m:\n\u001b[32m---> \u001b[39m\u001b[32m53\u001b[39m     \u001b[38;5;28;01mreturn\u001b[39;00m \u001b[43mfunc\u001b[49m\u001b[43m(\u001b[49m\u001b[43mclip\u001b[49m\u001b[43m,\u001b[49m\u001b[43m \u001b[49m\u001b[43m*\u001b[49m\u001b[43margs\u001b[49m\u001b[43m,\u001b[49m\u001b[43m \u001b[49m\u001b[43m*\u001b[49m\u001b[43m*\u001b[49m\u001b[43mkwargs\u001b[49m\u001b[43m)\u001b[49m\n",
      "\u001b[36mFile \u001b[39m\u001b[32mc:\\Users\\moyer\\OneDrive\\Documents\\repos\\q-learning-project\\.venv\\Lib\\site-packages\\decorator.py:235\u001b[39m, in \u001b[36mdecorate.<locals>.fun\u001b[39m\u001b[34m(*args, **kw)\u001b[39m\n\u001b[32m    233\u001b[39m \u001b[38;5;28;01mif\u001b[39;00m \u001b[38;5;129;01mnot\u001b[39;00m kwsyntax:\n\u001b[32m    234\u001b[39m     args, kw = fix(args, kw, sig)\n\u001b[32m--> \u001b[39m\u001b[32m235\u001b[39m \u001b[38;5;28;01mreturn\u001b[39;00m \u001b[43mcaller\u001b[49m\u001b[43m(\u001b[49m\u001b[43mfunc\u001b[49m\u001b[43m,\u001b[49m\u001b[43m \u001b[49m\u001b[43m*\u001b[49m\u001b[43m(\u001b[49m\u001b[43mextras\u001b[49m\u001b[43m \u001b[49m\u001b[43m+\u001b[49m\u001b[43m \u001b[49m\u001b[43margs\u001b[49m\u001b[43m)\u001b[49m\u001b[43m,\u001b[49m\u001b[43m \u001b[49m\u001b[43m*\u001b[49m\u001b[43m*\u001b[49m\u001b[43mkw\u001b[49m\u001b[43m)\u001b[49m\n",
      "\u001b[36mFile \u001b[39m\u001b[32mc:\\Users\\moyer\\OneDrive\\Documents\\repos\\q-learning-project\\.venv\\Lib\\site-packages\\moviepy\\decorators.py:143\u001b[39m, in \u001b[36muse_clip_fps_by_default\u001b[39m\u001b[34m(func, clip, *args, **kwargs)\u001b[39m\n\u001b[32m    135\u001b[39m new_args = [\n\u001b[32m    136\u001b[39m     find_fps(arg) \u001b[38;5;28;01mif\u001b[39;00m (name == \u001b[33m\"\u001b[39m\u001b[33mfps\u001b[39m\u001b[33m\"\u001b[39m) \u001b[38;5;28;01melse\u001b[39;00m arg \u001b[38;5;28;01mfor\u001b[39;00m (arg, name) \u001b[38;5;129;01min\u001b[39;00m \u001b[38;5;28mzip\u001b[39m(args, names)\n\u001b[32m    137\u001b[39m ]\n\u001b[32m    138\u001b[39m new_kwargs = {\n\u001b[32m    139\u001b[39m     kwarg: find_fps(value) \u001b[38;5;28;01mif\u001b[39;00m kwarg == \u001b[33m\"\u001b[39m\u001b[33mfps\u001b[39m\u001b[33m\"\u001b[39m \u001b[38;5;28;01melse\u001b[39;00m value\n\u001b[32m    140\u001b[39m     \u001b[38;5;28;01mfor\u001b[39;00m (kwarg, value) \u001b[38;5;129;01min\u001b[39;00m kwargs.items()\n\u001b[32m    141\u001b[39m }\n\u001b[32m--> \u001b[39m\u001b[32m143\u001b[39m \u001b[38;5;28;01mreturn\u001b[39;00m \u001b[43mfunc\u001b[49m\u001b[43m(\u001b[49m\u001b[43mclip\u001b[49m\u001b[43m,\u001b[49m\u001b[43m \u001b[49m\u001b[43m*\u001b[49m\u001b[43mnew_args\u001b[49m\u001b[43m,\u001b[49m\u001b[43m \u001b[49m\u001b[43m*\u001b[49m\u001b[43m*\u001b[49m\u001b[43mnew_kwargs\u001b[49m\u001b[43m)\u001b[49m\n",
      "\u001b[36mFile \u001b[39m\u001b[32mc:\\Users\\moyer\\OneDrive\\Documents\\repos\\q-learning-project\\.venv\\Lib\\site-packages\\decorator.py:235\u001b[39m, in \u001b[36mdecorate.<locals>.fun\u001b[39m\u001b[34m(*args, **kw)\u001b[39m\n\u001b[32m    233\u001b[39m \u001b[38;5;28;01mif\u001b[39;00m \u001b[38;5;129;01mnot\u001b[39;00m kwsyntax:\n\u001b[32m    234\u001b[39m     args, kw = fix(args, kw, sig)\n\u001b[32m--> \u001b[39m\u001b[32m235\u001b[39m \u001b[38;5;28;01mreturn\u001b[39;00m \u001b[43mcaller\u001b[49m\u001b[43m(\u001b[49m\u001b[43mfunc\u001b[49m\u001b[43m,\u001b[49m\u001b[43m \u001b[49m\u001b[43m*\u001b[49m\u001b[43m(\u001b[49m\u001b[43mextras\u001b[49m\u001b[43m \u001b[49m\u001b[43m+\u001b[49m\u001b[43m \u001b[49m\u001b[43margs\u001b[49m\u001b[43m)\u001b[49m\u001b[43m,\u001b[49m\u001b[43m \u001b[49m\u001b[43m*\u001b[49m\u001b[43m*\u001b[49m\u001b[43mkw\u001b[49m\u001b[43m)\u001b[49m\n",
      "\u001b[36mFile \u001b[39m\u001b[32mc:\\Users\\moyer\\OneDrive\\Documents\\repos\\q-learning-project\\.venv\\Lib\\site-packages\\moviepy\\decorators.py:24\u001b[39m, in \u001b[36mconvert_masks_to_RGB\u001b[39m\u001b[34m(func, clip, *args, **kwargs)\u001b[39m\n\u001b[32m     22\u001b[39m \u001b[38;5;28;01mif\u001b[39;00m clip.is_mask:\n\u001b[32m     23\u001b[39m     clip = clip.to_RGB()\n\u001b[32m---> \u001b[39m\u001b[32m24\u001b[39m \u001b[38;5;28;01mreturn\u001b[39;00m \u001b[43mfunc\u001b[49m\u001b[43m(\u001b[49m\u001b[43mclip\u001b[49m\u001b[43m,\u001b[49m\u001b[43m \u001b[49m\u001b[43m*\u001b[49m\u001b[43margs\u001b[49m\u001b[43m,\u001b[49m\u001b[43m \u001b[49m\u001b[43m*\u001b[49m\u001b[43m*\u001b[49m\u001b[43mkwargs\u001b[49m\u001b[43m)\u001b[49m\n",
      "\u001b[36mFile \u001b[39m\u001b[32mc:\\Users\\moyer\\OneDrive\\Documents\\repos\\q-learning-project\\.venv\\Lib\\site-packages\\decorator.py:235\u001b[39m, in \u001b[36mdecorate.<locals>.fun\u001b[39m\u001b[34m(*args, **kw)\u001b[39m\n\u001b[32m    233\u001b[39m \u001b[38;5;28;01mif\u001b[39;00m \u001b[38;5;129;01mnot\u001b[39;00m kwsyntax:\n\u001b[32m    234\u001b[39m     args, kw = fix(args, kw, sig)\n\u001b[32m--> \u001b[39m\u001b[32m235\u001b[39m \u001b[38;5;28;01mreturn\u001b[39;00m \u001b[43mcaller\u001b[49m\u001b[43m(\u001b[49m\u001b[43mfunc\u001b[49m\u001b[43m,\u001b[49m\u001b[43m \u001b[49m\u001b[43m*\u001b[49m\u001b[43m(\u001b[49m\u001b[43mextras\u001b[49m\u001b[43m \u001b[49m\u001b[43m+\u001b[49m\u001b[43m \u001b[49m\u001b[43margs\u001b[49m\u001b[43m)\u001b[49m\u001b[43m,\u001b[49m\u001b[43m \u001b[49m\u001b[43m*\u001b[49m\u001b[43m*\u001b[49m\u001b[43mkw\u001b[49m\u001b[43m)\u001b[49m\n",
      "\u001b[36mFile \u001b[39m\u001b[32mc:\\Users\\moyer\\OneDrive\\Documents\\repos\\q-learning-project\\.venv\\Lib\\site-packages\\moviepy\\decorators.py:94\u001b[39m, in \u001b[36mpreprocess_args.<locals>.wrapper\u001b[39m\u001b[34m(func, *args, **kwargs)\u001b[39m\n\u001b[32m     86\u001b[39m new_args = [\n\u001b[32m     87\u001b[39m     fun(arg) \u001b[38;5;28;01mif\u001b[39;00m (name \u001b[38;5;129;01min\u001b[39;00m varnames) \u001b[38;5;129;01mand\u001b[39;00m (arg \u001b[38;5;129;01mis\u001b[39;00m \u001b[38;5;129;01mnot\u001b[39;00m \u001b[38;5;28;01mNone\u001b[39;00m) \u001b[38;5;28;01melse\u001b[39;00m arg\n\u001b[32m     88\u001b[39m     \u001b[38;5;28;01mfor\u001b[39;00m (arg, name) \u001b[38;5;129;01min\u001b[39;00m \u001b[38;5;28mzip\u001b[39m(args, names)\n\u001b[32m     89\u001b[39m ]\n\u001b[32m     90\u001b[39m new_kwargs = {\n\u001b[32m     91\u001b[39m     kwarg: fun(value) \u001b[38;5;28;01mif\u001b[39;00m kwarg \u001b[38;5;129;01min\u001b[39;00m varnames \u001b[38;5;28;01melse\u001b[39;00m value\n\u001b[32m     92\u001b[39m     \u001b[38;5;28;01mfor\u001b[39;00m (kwarg, value) \u001b[38;5;129;01min\u001b[39;00m kwargs.items()\n\u001b[32m     93\u001b[39m }\n\u001b[32m---> \u001b[39m\u001b[32m94\u001b[39m \u001b[38;5;28;01mreturn\u001b[39;00m \u001b[43mfunc\u001b[49m\u001b[43m(\u001b[49m\u001b[43m*\u001b[49m\u001b[43mnew_args\u001b[49m\u001b[43m,\u001b[49m\u001b[43m \u001b[49m\u001b[43m*\u001b[49m\u001b[43m*\u001b[49m\u001b[43mnew_kwargs\u001b[49m\u001b[43m)\u001b[49m\n",
      "\u001b[36mFile \u001b[39m\u001b[32mc:\\Users\\moyer\\OneDrive\\Documents\\repos\\q-learning-project\\.venv\\Lib\\site-packages\\moviepy\\video\\VideoClip.py:390\u001b[39m, in \u001b[36mVideoClip.write_videofile\u001b[39m\u001b[34m(self, filename, fps, codec, bitrate, audio, audio_fps, preset, audio_nbytes, audio_codec, audio_bitrate, audio_bufsize, temp_audiofile, temp_audiofile_path, remove_temp, write_logfile, threads, ffmpeg_params, logger, pixel_format)\u001b[39m\n\u001b[32m    378\u001b[39m \u001b[38;5;28;01mif\u001b[39;00m make_audio:\n\u001b[32m    379\u001b[39m     \u001b[38;5;28mself\u001b[39m.audio.write_audiofile(\n\u001b[32m    380\u001b[39m         audiofile,\n\u001b[32m    381\u001b[39m         audio_fps,\n\u001b[32m   (...)\u001b[39m\u001b[32m    387\u001b[39m         logger=logger,\n\u001b[32m    388\u001b[39m     )\n\u001b[32m--> \u001b[39m\u001b[32m390\u001b[39m \u001b[43mffmpeg_write_video\u001b[49m\u001b[43m(\u001b[49m\n\u001b[32m    391\u001b[39m \u001b[43m    \u001b[49m\u001b[38;5;28;43mself\u001b[39;49m\u001b[43m,\u001b[49m\n\u001b[32m    392\u001b[39m \u001b[43m    \u001b[49m\u001b[43mfilename\u001b[49m\u001b[43m,\u001b[49m\n\u001b[32m    393\u001b[39m \u001b[43m    \u001b[49m\u001b[43mfps\u001b[49m\u001b[43m,\u001b[49m\n\u001b[32m    394\u001b[39m \u001b[43m    \u001b[49m\u001b[43mcodec\u001b[49m\u001b[43m,\u001b[49m\n\u001b[32m    395\u001b[39m \u001b[43m    \u001b[49m\u001b[43mbitrate\u001b[49m\u001b[43m=\u001b[49m\u001b[43mbitrate\u001b[49m\u001b[43m,\u001b[49m\n\u001b[32m    396\u001b[39m \u001b[43m    \u001b[49m\u001b[43mpreset\u001b[49m\u001b[43m=\u001b[49m\u001b[43mpreset\u001b[49m\u001b[43m,\u001b[49m\n\u001b[32m    397\u001b[39m \u001b[43m    \u001b[49m\u001b[43mwrite_logfile\u001b[49m\u001b[43m=\u001b[49m\u001b[43mwrite_logfile\u001b[49m\u001b[43m,\u001b[49m\n\u001b[32m    398\u001b[39m \u001b[43m    \u001b[49m\u001b[43maudiofile\u001b[49m\u001b[43m=\u001b[49m\u001b[43maudiofile\u001b[49m\u001b[43m,\u001b[49m\n\u001b[32m    399\u001b[39m \u001b[43m    \u001b[49m\u001b[43mthreads\u001b[49m\u001b[43m=\u001b[49m\u001b[43mthreads\u001b[49m\u001b[43m,\u001b[49m\n\u001b[32m    400\u001b[39m \u001b[43m    \u001b[49m\u001b[43mffmpeg_params\u001b[49m\u001b[43m=\u001b[49m\u001b[43mffmpeg_params\u001b[49m\u001b[43m,\u001b[49m\n\u001b[32m    401\u001b[39m \u001b[43m    \u001b[49m\u001b[43mlogger\u001b[49m\u001b[43m=\u001b[49m\u001b[43mlogger\u001b[49m\u001b[43m,\u001b[49m\n\u001b[32m    402\u001b[39m \u001b[43m    \u001b[49m\u001b[43mpixel_format\u001b[49m\u001b[43m=\u001b[49m\u001b[43mpixel_format\u001b[49m\u001b[43m,\u001b[49m\n\u001b[32m    403\u001b[39m \u001b[43m\u001b[49m\u001b[43m)\u001b[49m\n\u001b[32m    405\u001b[39m \u001b[38;5;28;01mif\u001b[39;00m remove_temp \u001b[38;5;129;01mand\u001b[39;00m make_audio:\n\u001b[32m    406\u001b[39m     \u001b[38;5;28;01mif\u001b[39;00m os.path.exists(audiofile):\n",
      "\u001b[36mFile \u001b[39m\u001b[32mc:\\Users\\moyer\\OneDrive\\Documents\\repos\\q-learning-project\\.venv\\Lib\\site-packages\\moviepy\\video\\io\\ffmpeg_writer.py:276\u001b[39m, in \u001b[36mffmpeg_write_video\u001b[39m\u001b[34m(clip, filename, fps, codec, bitrate, preset, write_logfile, audiofile, threads, ffmpeg_params, logger, pixel_format)\u001b[39m\n\u001b[32m    273\u001b[39m                 mask = mask.astype(\u001b[33m\"\u001b[39m\u001b[33muint8\u001b[39m\u001b[33m\"\u001b[39m)\n\u001b[32m    274\u001b[39m             frame = np.dstack([frame, mask])\n\u001b[32m--> \u001b[39m\u001b[32m276\u001b[39m         \u001b[43mwriter\u001b[49m\u001b[43m.\u001b[49m\u001b[43mwrite_frame\u001b[49m\u001b[43m(\u001b[49m\u001b[43mframe\u001b[49m\u001b[43m)\u001b[49m\n\u001b[32m    278\u001b[39m \u001b[38;5;28;01mif\u001b[39;00m write_logfile:\n\u001b[32m    279\u001b[39m     logfile.close()\n",
      "\u001b[36mFile \u001b[39m\u001b[32mc:\\Users\\moyer\\OneDrive\\Documents\\repos\\q-learning-project\\.venv\\Lib\\site-packages\\moviepy\\video\\io\\ffmpeg_writer.py:153\u001b[39m, in \u001b[36mFFMPEG_VideoWriter.write_frame\u001b[39m\u001b[34m(self, img_array)\u001b[39m\n\u001b[32m    151\u001b[39m \u001b[38;5;250m\u001b[39m\u001b[33;03m\"\"\"Writes one frame in the file.\"\"\"\u001b[39;00m\n\u001b[32m    152\u001b[39m \u001b[38;5;28;01mtry\u001b[39;00m:\n\u001b[32m--> \u001b[39m\u001b[32m153\u001b[39m     \u001b[38;5;28;43mself\u001b[39;49m\u001b[43m.\u001b[49m\u001b[43mproc\u001b[49m\u001b[43m.\u001b[49m\u001b[43mstdin\u001b[49m\u001b[43m.\u001b[49m\u001b[43mwrite\u001b[49m\u001b[43m(\u001b[49m\u001b[43mimg_array\u001b[49m\u001b[43m.\u001b[49m\u001b[43mtobytes\u001b[49m\u001b[43m(\u001b[49m\u001b[43m)\u001b[49m\u001b[43m)\u001b[49m\n\u001b[32m    154\u001b[39m \u001b[38;5;28;01mexcept\u001b[39;00m \u001b[38;5;167;01mIOError\u001b[39;00m \u001b[38;5;28;01mas\u001b[39;00m err:\n\u001b[32m    155\u001b[39m     _, ffmpeg_error = \u001b[38;5;28mself\u001b[39m.proc.communicate()\n",
      "\u001b[31mKeyboardInterrupt\u001b[39m: "
     ]
    }
   ],
   "source": [
    "high_score = 0\n",
    "high_score_episode = 0\n",
    "\n",
    "for i in range(100):\n",
    "    observation, info = env.reset()\n",
    "    episode_over = False\n",
    "    total_reward = 0\n",
    "    actions = 0\n",
    "    while not episode_over:\n",
    "        action = agent2.bestAction(observation)\n",
    "        observation, reward, terminated, truncated, info = env.step(action)\n",
    "        total_reward += reward\n",
    "        episode_over = terminated or truncated\n",
    "        actions += 1\n",
    "    print(f\"Episode {i+1} took {actions} actions and earned {total_reward} reward\")\n",
    "    if total_reward > high_score:\n",
    "        high_score = total_reward\n",
    "        high_score_episode = i\n",
    "\n",
    "print(f\"Highest score was {high_score} in episode {high_score_episode+1}\")"
   ]
  },
  {
   "cell_type": "code",
   "execution_count": 466,
   "metadata": {},
   "outputs": [],
   "source": [
    "env.close()"
   ]
  }
 ],
 "metadata": {
  "kernelspec": {
   "display_name": ".venv",
   "language": "python",
   "name": "python3"
  },
  "language_info": {
   "codemirror_mode": {
    "name": "ipython",
    "version": 3
   },
   "file_extension": ".py",
   "mimetype": "text/x-python",
   "name": "python",
   "nbconvert_exporter": "python",
   "pygments_lexer": "ipython3",
   "version": "3.12.7"
  }
 },
 "nbformat": 4,
 "nbformat_minor": 2
}
